{
  "nbformat": 4,
  "nbformat_minor": 0,
  "metadata": {
    "colab": {
      "provenance": [],
      "authorship_tag": "ABX9TyNMf1Am+2qjQaYSP+/OzjCx",
      "include_colab_link": true
    },
    "kernelspec": {
      "name": "python3",
      "display_name": "Python 3"
    },
    "language_info": {
      "name": "python"
    }
  },
  "cells": [
    {
      "cell_type": "markdown",
      "metadata": {
        "id": "view-in-github",
        "colab_type": "text"
      },
      "source": [
        "<a href=\"https://colab.research.google.com/github/kariukidan/Sigma_academy/blob/main/Daniel_KariukiAssignement_5.ipynb\" target=\"_parent\"><img src=\"https://colab.research.google.com/assets/colab-badge.svg\" alt=\"Open In Colab\"/></a>"
      ]
    },
    {
      "cell_type": "code",
      "execution_count": null,
      "metadata": {
        "id": "W4GYwTeZhcnz"
      },
      "outputs": [],
      "source": [
        "import pandas as pd\n",
        "from pandas import *\n",
        "delivery_data = pd.read_csv('/content/Delivery+time.csv')"
      ]
    },
    {
      "cell_type": "code",
      "source": [
        "#remove rows with empty values\n",
        "delivery_data_clean = delivery_data.dropna()"
      ],
      "metadata": {
        "id": "2wTIxSVYjQ-k"
      },
      "execution_count": null,
      "outputs": []
    },
    {
      "cell_type": "code",
      "source": [
        "print(delivery_data_clean)"
      ],
      "metadata": {
        "colab": {
          "base_uri": "https://localhost:8080/"
        },
        "id": "gtUK5oAZkjZP",
        "outputId": "e8480ef5-b615-42ab-f6bf-c06d6012f9a9"
      },
      "execution_count": null,
      "outputs": [
        {
          "output_type": "stream",
          "name": "stdout",
          "text": [
            "           Date   Time Delivery FROM Code of Delivery  Code of package\n",
            "0    2014.07.06  14:30         KONGO             PACK                1\n",
            "1    2014.07.04  07:15         KONGO             PACK                2\n",
            "2    2014.07.05  05:45         KONGO             PACK                3\n",
            "3    2014.07.06  04:30         KONGO             PACK                4\n",
            "4    2014.07.05  07:45         KONGO             PACK                5\n",
            "..          ...    ...           ...              ...              ...\n",
            "388  2014.07.19  09:30         KONGO             PACK              389\n",
            "389  2014.07.19  05:30       WANTAGH             PACK              390\n",
            "390  2014.07.28  05:30    HUNTINGTON             PACK              391\n",
            "391  2014.07.14  08:30         KONGO             PACK              392\n",
            "392  2014.07.18  14:01       MAROCCO             PACK              393\n",
            "\n",
            "[360 rows x 5 columns]\n"
          ]
        }
      ]
    },
    {
      "cell_type": "code",
      "source": [
        "#Make elements in \"Delivery FROM\" and \"Code of Delivery\" columns  uppercase\n",
        "delivery_data_clean['Delivery FROM'] = delivery_data_clean['Delivery FROM'].str.upper()\n",
        "delivery_data_clean['Code of Delivery'] = delivery_data_clean['Code of Delivery'].str.upper()"
      ],
      "metadata": {
        "colab": {
          "base_uri": "https://localhost:8080/"
        },
        "id": "OzE3KfIZkwrz",
        "outputId": "9630d3d2-da06-4b7c-e632-6723933240f4"
      },
      "execution_count": null,
      "outputs": [
        {
          "output_type": "stream",
          "name": "stderr",
          "text": [
            "<ipython-input-8-23ede018a3e2>:1: SettingWithCopyWarning: \n",
            "A value is trying to be set on a copy of a slice from a DataFrame.\n",
            "Try using .loc[row_indexer,col_indexer] = value instead\n",
            "\n",
            "See the caveats in the documentation: https://pandas.pydata.org/pandas-docs/stable/user_guide/indexing.html#returning-a-view-versus-a-copy\n",
            "  delivery_data_clean['Delivery FROM'] = delivery_data_clean['Delivery FROM'].str.upper()\n",
            "<ipython-input-8-23ede018a3e2>:2: SettingWithCopyWarning: \n",
            "A value is trying to be set on a copy of a slice from a DataFrame.\n",
            "Try using .loc[row_indexer,col_indexer] = value instead\n",
            "\n",
            "See the caveats in the documentation: https://pandas.pydata.org/pandas-docs/stable/user_guide/indexing.html#returning-a-view-versus-a-copy\n",
            "  delivery_data_clean['Code of Delivery'] = delivery_data_clean['Code of Delivery'].str.upper()\n"
          ]
        }
      ]
    },
    {
      "cell_type": "code",
      "source": [
        "df = delivery_data_clean\n",
        "print(df)"
      ],
      "metadata": {
        "colab": {
          "base_uri": "https://localhost:8080/"
        },
        "id": "BYCrqxkbqErc",
        "outputId": "5a8cd66f-4076-4dba-ac0b-bfc2adf89b09"
      },
      "execution_count": null,
      "outputs": [
        {
          "output_type": "stream",
          "name": "stdout",
          "text": [
            "           Date   Time Delivery FROM Code of Delivery  Code of package\n",
            "0    2014.07.06  14:30         KONGO             PACK                1\n",
            "1    2014.07.04  07:15         KONGO             PACK                2\n",
            "2    2014.07.05  05:45         KONGO             PACK                3\n",
            "3    2014.07.06  04:30         KONGO             PACK                4\n",
            "4    2014.07.05  07:45         KONGO             PACK                5\n",
            "..          ...    ...           ...              ...              ...\n",
            "388  2014.07.19  09:30         KONGO             PACK              389\n",
            "389  2014.07.19  05:30       WANTAGH             PACK              390\n",
            "390  2014.07.28  05:30    HUNTINGTON             PACK              391\n",
            "391  2014.07.14  08:30         KONGO             PACK              392\n",
            "392  2014.07.18  14:01       MAROCCO             PACK              393\n",
            "\n",
            "[360 rows x 5 columns]\n"
          ]
        }
      ]
    },
    {
      "cell_type": "code",
      "source": [
        "#Combine values from columns \"Code of Delivery\" and \"Code of package\" into \"Code\"\n",
        "df['Code'] = df['Code of Delivery'].astype(str) + '-' + df['Code of package'].astype(str)\n",
        "print(df)"
      ],
      "metadata": {
        "colab": {
          "base_uri": "https://localhost:8080/"
        },
        "id": "M6MY_OE-ufyW",
        "outputId": "d0dbb02a-eba6-4635-90be-72f2fcfd9f9f"
      },
      "execution_count": null,
      "outputs": [
        {
          "output_type": "stream",
          "name": "stdout",
          "text": [
            "           Date   Time Delivery FROM Code of Delivery  Code of package  \\\n",
            "0    2014.07.06  14:30         KONGO             PACK                1   \n",
            "1    2014.07.04  07:15         KONGO             PACK                2   \n",
            "2    2014.07.05  05:45         KONGO             PACK                3   \n",
            "3    2014.07.06  04:30         KONGO             PACK                4   \n",
            "4    2014.07.05  07:45         KONGO             PACK                5   \n",
            "..          ...    ...           ...              ...              ...   \n",
            "388  2014.07.19  09:30         KONGO             PACK              389   \n",
            "389  2014.07.19  05:30       WANTAGH             PACK              390   \n",
            "390  2014.07.28  05:30    HUNTINGTON             PACK              391   \n",
            "391  2014.07.14  08:30         KONGO             PACK              392   \n",
            "392  2014.07.18  14:01       MAROCCO             PACK              393   \n",
            "\n",
            "         Code  \n",
            "0      PACK-1  \n",
            "1      PACK-2  \n",
            "2      PACK-3  \n",
            "3      PACK-4  \n",
            "4      PACK-5  \n",
            "..        ...  \n",
            "388  PACK-389  \n",
            "389  PACK-390  \n",
            "390  PACK-391  \n",
            "391  PACK-392  \n",
            "392  PACK-393  \n",
            "\n",
            "[360 rows x 6 columns]\n"
          ]
        },
        {
          "output_type": "stream",
          "name": "stderr",
          "text": [
            "<ipython-input-15-085ad4fd220d>:1: SettingWithCopyWarning: \n",
            "A value is trying to be set on a copy of a slice from a DataFrame.\n",
            "Try using .loc[row_indexer,col_indexer] = value instead\n",
            "\n",
            "See the caveats in the documentation: https://pandas.pydata.org/pandas-docs/stable/user_guide/indexing.html#returning-a-view-versus-a-copy\n",
            "  df['Code'] = df['Code of Delivery'].astype(str) + '-' + df['Code of package'].astype(str)\n"
          ]
        }
      ]
    },
    {
      "cell_type": "code",
      "source": [
        "#Transform the values in the 'Time' column into time in minutes\n",
        "def time_to_minutes(time_str):\n",
        "    minutes, seconds  = map(int, time_str.split(':'))\n",
        "    return minutes + seconds/60\n",
        "\n",
        "df['Time'] = df['Time'].apply(time_to_minutes)\n",
        "print(df)"
      ],
      "metadata": {
        "colab": {
          "base_uri": "https://localhost:8080/"
        },
        "id": "pDNTQMjxwpmd",
        "outputId": "844c0640-b1b3-4038-d66e-3a971360d2a3"
      },
      "execution_count": null,
      "outputs": [
        {
          "output_type": "stream",
          "name": "stdout",
          "text": [
            "           Date       Time Delivery FROM Code of Delivery  Code of package  \\\n",
            "0    2014.07.06  14.500000         KONGO             PACK                1   \n",
            "1    2014.07.04   7.250000         KONGO             PACK                2   \n",
            "2    2014.07.05   5.750000         KONGO             PACK                3   \n",
            "3    2014.07.06   4.500000         KONGO             PACK                4   \n",
            "4    2014.07.05   7.750000         KONGO             PACK                5   \n",
            "..          ...        ...           ...              ...              ...   \n",
            "388  2014.07.19   9.500000         KONGO             PACK              389   \n",
            "389  2014.07.19   5.500000       WANTAGH             PACK              390   \n",
            "390  2014.07.28   5.500000    HUNTINGTON             PACK              391   \n",
            "391  2014.07.14   8.500000         KONGO             PACK              392   \n",
            "392  2014.07.18  14.016667       MAROCCO             PACK              393   \n",
            "\n",
            "         Code  \n",
            "0      PACK-1  \n",
            "1      PACK-2  \n",
            "2      PACK-3  \n",
            "3      PACK-4  \n",
            "4      PACK-5  \n",
            "..        ...  \n",
            "388  PACK-389  \n",
            "389  PACK-390  \n",
            "390  PACK-391  \n",
            "391  PACK-392  \n",
            "392  PACK-393  \n",
            "\n",
            "[360 rows x 6 columns]\n"
          ]
        },
        {
          "output_type": "stream",
          "name": "stderr",
          "text": [
            "<ipython-input-16-e488f33be55b>:6: SettingWithCopyWarning: \n",
            "A value is trying to be set on a copy of a slice from a DataFrame.\n",
            "Try using .loc[row_indexer,col_indexer] = value instead\n",
            "\n",
            "See the caveats in the documentation: https://pandas.pydata.org/pandas-docs/stable/user_guide/indexing.html#returning-a-view-versus-a-copy\n",
            "  df['Time'] = df['Time'].apply(time_to_minutes)\n"
          ]
        }
      ]
    }
  ]
}