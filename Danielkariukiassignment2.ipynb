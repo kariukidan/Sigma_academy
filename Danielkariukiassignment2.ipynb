{
  "nbformat": 4,
  "nbformat_minor": 0,
  "metadata": {
    "colab": {
      "provenance": [],
      "authorship_tag": "ABX9TyNGKIGZiL5aORrIOfnSYOPA",
      "include_colab_link": true
    },
    "kernelspec": {
      "name": "python3",
      "display_name": "Python 3"
    },
    "language_info": {
      "name": "python"
    }
  },
  "cells": [
    {
      "cell_type": "markdown",
      "metadata": {
        "id": "view-in-github",
        "colab_type": "text"
      },
      "source": [
        "<a href=\"https://colab.research.google.com/github/kariukidan/Sigma_academy/blob/main/Danielkariukiassignment2.ipynb\" target=\"_parent\"><img src=\"https://colab.research.google.com/assets/colab-badge.svg\" alt=\"Open In Colab\"/></a>"
      ]
    },
    {
      "cell_type": "code",
      "execution_count": null,
      "metadata": {
        "colab": {
          "base_uri": "https://localhost:8080/"
        },
        "id": "ycc6dlO397Jv",
        "outputId": "4432aa6b-3124-4bfa-e50b-acd34a30b2f9"
      },
      "outputs": [
        {
          "output_type": "stream",
          "name": "stdout",
          "text": [
            "[5, 9, 7]\n"
          ]
        }
      ],
      "source": [
        "def numbers_greater_than(numbers_list, num):\n",
        "  return [i for i in numbers_list if i > num]\n",
        "\n",
        "numbers_list = [5, 3, 9, 2, 7, 1]\n",
        "num = 4\n",
        "result = numbers_greater_than (numbers_list, num)\n",
        "print (result)\n"
      ]
    }
  ]
}