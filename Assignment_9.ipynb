{
  "nbformat": 4,
  "nbformat_minor": 0,
  "metadata": {
    "colab": {
      "provenance": [],
      "authorship_tag": "ABX9TyPLgonWDgT5+8FhpC8CGANj",
      "include_colab_link": true
    },
    "kernelspec": {
      "name": "python3",
      "display_name": "Python 3"
    },
    "language_info": {
      "name": "python"
    }
  },
  "cells": [
    {
      "cell_type": "markdown",
      "metadata": {
        "id": "view-in-github",
        "colab_type": "text"
      },
      "source": [
        "<a href=\"https://colab.research.google.com/github/kariukidan/Sigma_academy/blob/main/Assignment_9.ipynb\" target=\"_parent\"><img src=\"https://colab.research.google.com/assets/colab-badge.svg\" alt=\"Open In Colab\"/></a>"
      ]
    },
    {
      "cell_type": "code",
      "execution_count": null,
      "metadata": {
        "id": "h68VNnhO8HKy"
      },
      "outputs": [],
      "source": [
        "import sqlite3\n",
        "import pandas as pd\n",
        "\n",
        "# Connect to the SQLite database\n",
        "conn = sqlite3.connect('schema.db')\n",
        "cursor = conn.cursor()"
      ]
    },
    {
      "cell_type": "code",
      "source": [
        "conn.execute('''CREATE TABLE IF NOT EXISTS Students (\n",
        "                id INTEGER PRIMARY KEY,\n",
        "                first_name TEXT,\n",
        "                last_name TEXT,\n",
        "                group_id INTEGER,\n",
        "                FOREIGN KEY(group_id) REFERENCES Groups(id))''')\n",
        "\n",
        "conn.execute('''CREATE TABLE IF NOT EXISTS Groups(\n",
        "                id INTEGER PRIMARY KEY,\n",
        "                group_name TEXT,\n",
        "                faculty_id INTEGER,\n",
        "                FOREIGN KEY(faculty_id) REFERENCES Faculties(id))''')\n",
        "\n",
        "conn.execute('''CREATE TABLE IF NOT EXISTS Faculties (\n",
        "                id INTEGER PRIMARY KEY,\n",
        "                faculty_name TEXT,\n",
        "                subject_count INTEGER)''')"
      ],
      "metadata": {
        "colab": {
          "base_uri": "https://localhost:8080/"
        },
        "id": "kQoR-aUK9UJ_",
        "outputId": "d7323a78-2fd8-4b7c-b442-67ef01228bea"
      },
      "execution_count": null,
      "outputs": [
        {
          "output_type": "execute_result",
          "data": {
            "text/plain": [
              "<sqlite3.Cursor at 0x7bf5c38ab3c0>"
            ]
          },
          "metadata": {},
          "execution_count": 2
        }
      ]
    },
    {
      "cell_type": "code",
      "source": [
        "Students_data = [(1, 'John', 'Doe', 1),\n",
        "                 (2, 'Alice', 'Smith', 1),\n",
        "                 (3, 'Bob', 'Johnson', 2),\n",
        "                 (4, 'Emma', 'Brown', 3),\n",
        "                 (5, 'Michael', 'Davis', 3),\n",
        "                 (6, 'Sophia', 'Wilson', 3),\n",
        "                 (7, 'David', 'Maerinez',2)]\n",
        "\n",
        "Groups_data = [(1, 'Group A', 1),\n",
        "               (2, 'Group B', 2),\n",
        "               (3, 'Group C', 3)]\n",
        "\n",
        "Faculties_data = [(1, 'Faculty of Science', 10),\n",
        "                  (2, 'Faculty of Arts', 8),\n",
        "                  (3, 'Faculty of Engineering', 12)]\n"
      ],
      "metadata": {
        "id": "hRX8PD_YH3sT"
      },
      "execution_count": null,
      "outputs": []
    },
    {
      "cell_type": "code",
      "source": [
        "conn.executemany('INSERT INTO Students VALUES (?, ?, ?, ?)', Students_data)\n",
        "conn.executemany('INSERT INTO Groups VALUES (?, ?, ?)', Groups_data)\n",
        "conn.executemany('INSERT INTO Faculties VALUES (?, ?, ?)', Faculties_data)"
      ],
      "metadata": {
        "colab": {
          "base_uri": "https://localhost:8080/"
        },
        "id": "pzO8WZf-LaOn",
        "outputId": "015fe4fb-b54c-46a7-af79-76e8b461e20b"
      },
      "execution_count": null,
      "outputs": [
        {
          "output_type": "execute_result",
          "data": {
            "text/plain": [
              "<sqlite3.Cursor at 0x7bf5c38ab840>"
            ]
          },
          "metadata": {},
          "execution_count": 4
        }
      ]
    },
    {
      "cell_type": "code",
      "source": [
        "cursor.execute(\"SELECT name FROM sqlite_master WHERE type='table';\")\n",
        "\n",
        "tables = cursor.fetchall()\n",
        "\n",
        "print(\"Show me all tables:\")\n",
        "for table in tables:\n",
        "    print(table[0])"
      ],
      "metadata": {
        "colab": {
          "base_uri": "https://localhost:8080/"
        },
        "id": "q-dAwuMaQTd6",
        "outputId": "0dc51586-351e-4cd4-a2f1-30def8186d39"
      },
      "execution_count": null,
      "outputs": [
        {
          "output_type": "stream",
          "name": "stdout",
          "text": [
            "Show me all tables:\n",
            "Students\n",
            "Groups\n",
            "Faculties\n"
          ]
        }
      ]
    },
    {
      "cell_type": "code",
      "source": [
        "for table_name in tables:\n",
        "    table_name = table_name[0]\n",
        "    query = f\"PRAGMA table_info({table_name});\"\n",
        "    result = cursor.execute(query).fetchall()\n",
        "    print(f\"Structure {table_name}:\")\n",
        "    for column_info in result:\n",
        "        print(column_info)"
      ],
      "metadata": {
        "colab": {
          "base_uri": "https://localhost:8080/"
        },
        "id": "UGdV6_kCT6PM",
        "outputId": "25adc830-3281-4abf-a1e3-a8b728310695"
      },
      "execution_count": null,
      "outputs": [
        {
          "output_type": "stream",
          "name": "stdout",
          "text": [
            "Structure Students:\n",
            "(0, 'id', 'INTEGER', 0, None, 1)\n",
            "(1, 'first_name', 'TEXT', 0, None, 0)\n",
            "(2, 'last_name', 'TEXT', 0, None, 0)\n",
            "(3, 'group_id', 'INTEGER', 0, None, 0)\n",
            "Structure Groups:\n",
            "(0, 'id', 'INTEGER', 0, None, 1)\n",
            "(1, 'group_name', 'TEXT', 0, None, 0)\n",
            "(2, 'faculty_id', 'INTEGER', 0, None, 0)\n",
            "Structure Faculties:\n",
            "(0, 'id', 'INTEGER', 0, None, 1)\n",
            "(1, 'faculty_name', 'TEXT', 0, None, 0)\n",
            "(2, 'subject_count', 'INTEGER', 0, None, 0)\n"
          ]
        }
      ]
    },
    {
      "cell_type": "code",
      "source": [
        "\n",
        "\n",
        "left_join_query = '''\n",
        "SELECT Students.first_name || ' ' || Students.last_name AS 'Full Name', Faculties.subject_count AS 'Subject Count'\n",
        "\n",
        "FROM Students\n",
        "LEFT JOIN Groups ON Students.group_id = Groups.id\n",
        "LEFT JOIN Faculties ON Groups.faculty_id = Faculties.id\n",
        "'''\n",
        "cursor.execute(left_join_query)"
      ],
      "metadata": {
        "colab": {
          "base_uri": "https://localhost:8080/"
        },
        "id": "66Skw8KEPFwm",
        "outputId": "bda539bd-2bcd-46a6-c43a-8edaed97bcd4"
      },
      "execution_count": null,
      "outputs": [
        {
          "output_type": "execute_result",
          "data": {
            "text/plain": [
              "<sqlite3.Cursor at 0x7bf5c38ab1c0>"
            ]
          },
          "metadata": {},
          "execution_count": 7
        }
      ]
    },
    {
      "cell_type": "code",
      "source": [
        "results = cursor.fetchall()\n",
        "for row in results:\n",
        "  print(row)"
      ],
      "metadata": {
        "colab": {
          "base_uri": "https://localhost:8080/"
        },
        "id": "1ikYYOTYWXgL",
        "outputId": "10efbc2b-7cf3-429e-9cc0-b06114687b04"
      },
      "execution_count": null,
      "outputs": [
        {
          "output_type": "stream",
          "name": "stdout",
          "text": [
            "('John Doe', 10)\n",
            "('Alice Smith', 10)\n",
            "('Bob Johnson', 8)\n",
            "('Emma Brown', 12)\n",
            "('Michael Davis', 12)\n",
            "('Sophia Wilson', 12)\n",
            "('David Maerinez', 8)\n"
          ]
        }
      ]
    },
    {
      "cell_type": "code",
      "source": [
        "    right_join_query = '''\n",
        "    SELECT Faculties.faculty_name, COUNT(Students.id)\n",
        "    FROM Faculties\n",
        "    LEFT JOIN Groups ON Faculties.id = Groups.faculty_id\n",
        "    LEFT JOIN Students ON Groups.id = Students.group_id\n",
        "    GROUP BY Faculties.faculty_name\n",
        "    '''\n",
        "    cursor.execute(right_join_query)"
      ],
      "metadata": {
        "colab": {
          "base_uri": "https://localhost:8080/"
        },
        "id": "2JSHHnHTNRiE",
        "outputId": "ded1453b-f115-474d-d0b7-690a74386fd3"
      },
      "execution_count": null,
      "outputs": [
        {
          "output_type": "execute_result",
          "data": {
            "text/plain": [
              "<sqlite3.Cursor at 0x7bf5c38ab1c0>"
            ]
          },
          "metadata": {},
          "execution_count": 13
        }
      ]
    },
    {
      "cell_type": "code",
      "source": [
        "results = cursor.fetchall()\n",
        "for row in results:\n",
        "  print(row)"
      ],
      "metadata": {
        "id": "c0Tur7sR8rQ2",
        "outputId": "9af1c8db-794a-446d-fb6b-697c3d3d1077",
        "colab": {
          "base_uri": "https://localhost:8080/"
        }
      },
      "execution_count": null,
      "outputs": [
        {
          "output_type": "stream",
          "name": "stdout",
          "text": [
            "('Faculty of Arts', 2)\n",
            "('Faculty of Engineering', 3)\n",
            "('Faculty of Science', 2)\n"
          ]
        }
      ]
    },
    {
      "cell_type": "code",
      "source": [
        "    right_join_query = '''\n",
        "    SELECT Faculties.faculty_name AS 'Faculty Name', COUNT(Students.id) AS 'Student Count'\n",
        "    FROM Faculties\n",
        "    LEFT JOIN Groups ON Faculties.id = Groups.faculty_id\n",
        "    LEFT JOIN Students ON Groups.id = Students.group_id\n",
        "    GROUP BY Faculties.faculty_name\n",
        "    '''\n",
        "    cursor.execute(right_join_query)"
      ],
      "metadata": {
        "colab": {
          "base_uri": "https://localhost:8080/"
        },
        "id": "kjVLaO1f4Q9G",
        "outputId": "d03355c9-eb59-460d-fd03-49012f1003e8"
      },
      "execution_count": null,
      "outputs": [
        {
          "output_type": "execute_result",
          "data": {
            "text/plain": [
              "<sqlite3.Cursor at 0x7bf5c38ab1c0>"
            ]
          },
          "metadata": {},
          "execution_count": 10
        }
      ]
    },
    {
      "cell_type": "code",
      "source": [
        "results = cursor.fetchall()\n",
        "for row in results:\n",
        "  print(row)"
      ],
      "metadata": {
        "colab": {
          "base_uri": "https://localhost:8080/"
        },
        "id": "DSVStqn-4vD3",
        "outputId": "163ab5be-3407-49f6-e70e-7b933a0246cc"
      },
      "execution_count": null,
      "outputs": [
        {
          "output_type": "stream",
          "name": "stdout",
          "text": [
            "('Faculty of Arts', 2)\n",
            "('Faculty of Engineering', 3)\n",
            "('Faculty of Science', 2)\n"
          ]
        }
      ]
    }
  ]
}