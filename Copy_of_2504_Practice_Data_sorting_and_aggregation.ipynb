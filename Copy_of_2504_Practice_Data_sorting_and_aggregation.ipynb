{
  "nbformat": 4,
  "nbformat_minor": 0,
  "metadata": {
    "colab": {
      "provenance": [],
      "collapsed_sections": [
        "OAZ4Hwv-NHVv"
      ],
      "include_colab_link": true
    },
    "kernelspec": {
      "name": "python3",
      "display_name": "Python 3"
    },
    "language_info": {
      "name": "python"
    }
  },
  "cells": [
    {
      "cell_type": "markdown",
      "metadata": {
        "id": "view-in-github",
        "colab_type": "text"
      },
      "source": [
        "<a href=\"https://colab.research.google.com/github/kariukidan/Sigma_academy/blob/main/Copy_of_2504_Practice_Data_sorting_and_aggregation.ipynb\" target=\"_parent\"><img src=\"https://colab.research.google.com/assets/colab-badge.svg\" alt=\"Open In Colab\"/></a>"
      ]
    },
    {
      "cell_type": "markdown",
      "source": [
        "**Grouping**\n",
        "\n",
        "In `SQLite`, the `GROUP BY` operator is used in a `SELECT` query to collect data across multiple records and group the results into one or more columns.\n",
        "\n",
        "A query that includes a `GROUP BY` clause is called a *grouping query* because it joins the rows of the source tables into groups and for\n",
        "each group of rows generates one row in the query results table.\n",
        "\n",
        "The columns specified in the `GROUP BY` clause are called *grouping columns*,\n",
        "since they are the ones who determine on what basis the lines are divided into\n",
        "groups."
      ],
      "metadata": {
        "id": "AlCvKsfxSUYG"
      }
    },
    {
      "cell_type": "markdown",
      "source": [
        "**HAVING**\n",
        "\n",
        "In `SQLite`, the `HAVING` operator is used in combination with `GROUP BY` to limit the groups of rows returned to only those whose condition is `TRUE`.\n"
      ],
      "metadata": {
        "id": "doM5_cLdXkMC"
      }
    },
    {
      "cell_type": "code",
      "source": [
        "import sqlite3\n",
        "import pandas as pd"
      ],
      "metadata": {
        "id": "r15Va0ZAF5Wi"
      },
      "execution_count": null,
      "outputs": []
    },
    {
      "cell_type": "code",
      "source": [
        "con = sqlite3.connect('Fully_Translated_Book_Simple_Database_Final.db')\n",
        "cur = con.cursor()"
      ],
      "metadata": {
        "id": "pJQabTijF_ik"
      },
      "execution_count": null,
      "outputs": []
    },
    {
      "cell_type": "code",
      "source": [
        "cur.execute(\"SELECT name FROM sqlite_master WHERE type='table';\")\n",
        "\n",
        "tables = cur.fetchall()\n",
        "\n",
        "print(\"Show me all tables:\")\n",
        "for table in tables:\n",
        "    print(table[0])\n"
      ],
      "metadata": {
        "colab": {
          "base_uri": "https://localhost:8080/"
        },
        "id": "PP4YpDcm5Xqg",
        "outputId": "bd3bed9a-95cc-4c0e-8acd-1ea3eede0cd7"
      },
      "execution_count": null,
      "outputs": [
        {
          "output_type": "stream",
          "name": "stdout",
          "text": [
            "Show me all tables:\n",
            "author\n",
            "publisher\n",
            "category\n",
            "book\n",
            "authorbook\n"
          ]
        }
      ]
    },
    {
      "cell_type": "code",
      "source": [
        "for table_name in tables:\n",
        "    table_name = table_name[0]\n",
        "    query = f\"PRAGMA table_info({table_name});\"\n",
        "    result = cur.execute(query).fetchall()\n",
        "    print(f\"Structure {table_name}:\")\n",
        "    for column_info in result:\n",
        "        print(column_info)"
      ],
      "metadata": {
        "colab": {
          "base_uri": "https://localhost:8080/"
        },
        "id": "jYFm5Cwl5iWD",
        "outputId": "9c838a22-76cb-47e2-fe9a-53e4d02f700b"
      },
      "execution_count": null,
      "outputs": [
        {
          "output_type": "stream",
          "name": "stdout",
          "text": [
            "Structure author:\n",
            "(0, 'id', 'INTEGER', 1, None, 1)\n",
            "(1, 'name', 'VARCHAR(255)', 1, None, 0)\n",
            "Structure publisher:\n",
            "(0, 'id', 'INTEGER', 1, None, 1)\n",
            "(1, 'name', 'VARCHAR(255)', 1, None, 0)\n",
            "Structure category:\n",
            "(0, 'id', 'INTEGER', 1, None, 1)\n",
            "(1, 'code', 'VARCHAR(255)', 1, None, 0)\n",
            "(2, 'title', 'VARCHAR(255)', 1, None, 0)\n",
            "Structure book:\n",
            "(0, 'id', 'INTEGER', 1, None, 1)\n",
            "(1, 'title', 'VARCHAR(255)', 1, None, 0)\n",
            "(2, 'publisher_id', 'INTEGER', 0, None, 0)\n",
            "(3, 'address', 'VARCHAR(255)', 0, None, 0)\n",
            "(4, 'year', 'INTEGER', 1, None, 0)\n",
            "(5, 'edition', 'VARCHAR(255)', 1, None, 0)\n",
            "(6, 'numpages', 'INTEGER', 1, None, 0)\n",
            "(7, 'language', 'VARCHAR(255)', 1, None, 0)\n",
            "(8, 'remark', 'TEXT', 1, None, 0)\n",
            "(9, 'category_id', 'INTEGER', 1, None, 0)\n",
            "Structure authorbook:\n",
            "(0, 'id', 'INTEGER', 1, None, 1)\n",
            "(1, 'author_id', 'INTEGER', 1, None, 0)\n",
            "(2, 'book_id', 'INTEGER', 1, None, 0)\n"
          ]
        }
      ]
    },
    {
      "cell_type": "code",
      "source": [
        "# Count authors\n",
        "cur.execute(\"SELECT COUNT(*) FROM book;\")\n",
        "book_count = cur.fetchone()[0]\n",
        "print(f\"Number of books: {book_count}\")"
      ],
      "metadata": {
        "colab": {
          "base_uri": "https://localhost:8080/"
        },
        "id": "ya2QgjmCPtTK",
        "outputId": "6a7686d9-828c-46e1-ee0e-c348dcf7943f"
      },
      "execution_count": null,
      "outputs": [
        {
          "output_type": "stream",
          "name": "stdout",
          "text": [
            "Number of books: 828\n"
          ]
        }
      ]
    },
    {
      "cell_type": "code",
      "source": [
        "cur.execute(\"SELECT count(id) FROM book;\")\n",
        "cur.fetchall()"
      ],
      "metadata": {
        "colab": {
          "base_uri": "https://localhost:8080/"
        },
        "id": "wjBEVPzBP4y1",
        "outputId": "e3ccbdbe-da01-4481-8229-11ad95942269"
      },
      "execution_count": null,
      "outputs": [
        {
          "output_type": "execute_result",
          "data": {
            "text/plain": [
              "[(828,)]"
            ]
          },
          "metadata": {},
          "execution_count": 6
        }
      ]
    },
    {
      "cell_type": "code",
      "source": [
        "cur.execute(\"SELECT MAX(year) FROM book;\")\n",
        "max_year = cur.fetchone()[0]\n",
        "print(max_year)"
      ],
      "metadata": {
        "colab": {
          "base_uri": "https://localhost:8080/"
        },
        "id": "kgfOFDpPSiez",
        "outputId": "3c80429a-b31d-40a8-878b-d52aec4e5c5e"
      },
      "execution_count": null,
      "outputs": [
        {
          "output_type": "stream",
          "name": "stdout",
          "text": [
            "19991\n"
          ]
        }
      ]
    },
    {
      "cell_type": "code",
      "source": [
        "cur.execute(\"SELECT year FROM book LIMIT 10;\")\n",
        "cur.fetchall()"
      ],
      "metadata": {
        "colab": {
          "base_uri": "https://localhost:8080/"
        },
        "id": "i_n6BkZNUF15",
        "outputId": "99a01c3c-3bc3-4f44-80a9-703aeb32def2"
      },
      "execution_count": null,
      "outputs": [
        {
          "output_type": "execute_result",
          "data": {
            "text/plain": [
              "[(1990,),\n",
              " (2005,),\n",
              " (2004,),\n",
              " (1963,),\n",
              " (1991,),\n",
              " (1963,),\n",
              " (1977,),\n",
              " (1978,),\n",
              " (1998,),\n",
              " (2000,)]"
            ]
          },
          "metadata": {},
          "execution_count": 24
        }
      ]
    },
    {
      "cell_type": "code",
      "source": [
        "#change year from 19991 to 1999\n",
        "cur.execute(\"UPDATE book SET year = 1999 WHERE year = 19991\")\n",
        "con.commit()"
      ],
      "metadata": {
        "id": "IJgvlrdy89Za"
      },
      "execution_count": null,
      "outputs": []
    },
    {
      "cell_type": "code",
      "source": [
        "cur.execute(\"DELETE from book WHERE year = 2014\")\n",
        "con.commit()"
      ],
      "metadata": {
        "id": "xTBYnttz-06L"
      },
      "execution_count": null,
      "outputs": []
    },
    {
      "cell_type": "code",
      "source": [
        "cur.execute(\"SELECT* from book WHERE year = 2014\")\n",
        "cur.fetchall()"
      ],
      "metadata": {
        "colab": {
          "base_uri": "https://localhost:8080/"
        },
        "id": "ALCmgap5_Dgv",
        "outputId": "85d9aec8-4f7e-4348-90d9-34390203e475"
      },
      "execution_count": null,
      "outputs": [
        {
          "output_type": "execute_result",
          "data": {
            "text/plain": [
              "[]"
            ]
          },
          "metadata": {},
          "execution_count": 19
        }
      ]
    },
    {
      "cell_type": "code",
      "source": [
        "cur.execute(\"SELECT DISTINCT year FROM book ORDER BY year DESC LIMIT 5;\")\n",
        "cur.fetchall()"
      ],
      "metadata": {
        "colab": {
          "base_uri": "https://localhost:8080/"
        },
        "id": "KOoO4NwyVj6G",
        "outputId": "7e27587d-1f81-41d6-c5b9-d81320d58185"
      },
      "execution_count": null,
      "outputs": [
        {
          "output_type": "execute_result",
          "data": {
            "text/plain": [
              "[(2013,), (2012,), (2011,), (2010,), (2009,)]"
            ]
          },
          "metadata": {},
          "execution_count": 20
        }
      ]
    },
    {
      "cell_type": "code",
      "source": [
        "cur.execute(\"UPDATE book SET numpages = UPPER(numpages)\")\n",
        "con.commit()"
      ],
      "metadata": {
        "id": "w_9YrHmp8PPV"
      },
      "execution_count": null,
      "outputs": []
    },
    {
      "cell_type": "code",
      "source": [
        "cur.execute(\"UPDATE book SET remark = UPPER(remark)\")\n",
        "con.commit()"
      ],
      "metadata": {
        "id": "YqCEWU-6EPLs"
      },
      "execution_count": null,
      "outputs": []
    },
    {
      "cell_type": "code",
      "source": [
        "cur.execute(\"SELECT remark FROM book LIMIT 10;\")\n",
        "cur.fetchall()"
      ],
      "metadata": {
        "colab": {
          "base_uri": "https://localhost:8080/"
        },
        "id": "JDjgZ2R0EWVj",
        "outputId": "6c51df9d-000c-402d-88fb-5d25e54863d8"
      },
      "execution_count": null,
      "outputs": [
        {
          "output_type": "execute_result",
          "data": {
            "text/plain": [
              "[('TRANSLATED ',),\n",
              " ('TRANSLATED ',),\n",
              " ('TRANSLATED ',),\n",
              " ('TRANSLATED ',),\n",
              " ('TRANSLATED ',),\n",
              " ('TRANSLATED ',),\n",
              " ('TRANSLATED ',),\n",
              " ('TRANSLATED ',),\n",
              " ('TRANSLATED ',),\n",
              " ('TRANSLATED ',)]"
            ]
          },
          "metadata": {},
          "execution_count": 23
        }
      ]
    },
    {
      "cell_type": "code",
      "source": [
        "for table_name in tables:\n",
        "    table_name = table_name[0]\n",
        "    query = f\"PRAGMA table_info({table_name});\"\n",
        "    result = cur.execute(query).fetchall()\n",
        "    print(f\"Structure {table_name}:\")\n",
        "    for column_info in result:\n",
        "        print(column_info)"
      ],
      "metadata": {
        "colab": {
          "base_uri": "https://localhost:8080/"
        },
        "id": "UJ1GZdEsE0Cp",
        "outputId": "e333bade-8e5a-4be7-9ffb-9fd94de0cbd5"
      },
      "execution_count": null,
      "outputs": [
        {
          "output_type": "stream",
          "name": "stdout",
          "text": [
            "Structure author:\n",
            "(0, 'id', 'INTEGER', 1, None, 1)\n",
            "(1, 'name', 'VARCHAR(255)', 1, None, 0)\n",
            "Structure publisher:\n",
            "(0, 'id', 'INTEGER', 1, None, 1)\n",
            "(1, 'name', 'VARCHAR(255)', 1, None, 0)\n",
            "Structure category:\n",
            "(0, 'id', 'INTEGER', 1, None, 1)\n",
            "(1, 'code', 'VARCHAR(255)', 1, None, 0)\n",
            "(2, 'title', 'VARCHAR(255)', 1, None, 0)\n",
            "Structure book:\n",
            "(0, 'id', 'INTEGER', 1, None, 1)\n",
            "(1, 'title', 'VARCHAR(255)', 1, None, 0)\n",
            "(2, 'publisher_id', 'INTEGER', 0, None, 0)\n",
            "(3, 'address', 'VARCHAR(255)', 0, None, 0)\n",
            "(4, 'year', 'INTEGER', 1, None, 0)\n",
            "(5, 'edition', 'VARCHAR(255)', 1, None, 0)\n",
            "(6, 'numpages', 'INTEGER', 1, None, 0)\n",
            "(7, 'language', 'VARCHAR(255)', 1, None, 0)\n",
            "(8, 'remark', 'TEXT', 1, None, 0)\n",
            "(9, 'category_id', 'INTEGER', 1, None, 0)\n",
            "Structure authorbook:\n",
            "(0, 'id', 'INTEGER', 1, None, 1)\n",
            "(1, 'author_id', 'INTEGER', 1, None, 0)\n",
            "(2, 'book_id', 'INTEGER', 1, None, 0)\n"
          ]
        }
      ]
    },
    {
      "cell_type": "code",
      "source": [
        "# Count authors\n",
        "cur.execute(\"SELECT COUNT(*) FROM author;\")\n",
        "author_count = cur.fetchone()[0]\n",
        "print(f\"Number of authors: {author_count}\")"
      ],
      "metadata": {
        "colab": {
          "base_uri": "https://localhost:8080/"
        },
        "id": "Ic1wIyLjNgMQ",
        "outputId": "d19b5d0d-903e-4862-ce72-70f636a5aabe"
      },
      "execution_count": null,
      "outputs": [
        {
          "output_type": "stream",
          "name": "stdout",
          "text": [
            "Number of authors: 1010\n"
          ]
        }
      ]
    },
    {
      "cell_type": "code",
      "source": [
        "\n",
        "\n",
        "# Find min and max ID of publishers\n",
        "cur.execute(\"SELECT MAX(id), MIN(id) FROM publisher;\")\n",
        "max_min_id = cur.fetchone()\n",
        "print(f\"min and max ID: {max_min_id}\")\n"
      ],
      "metadata": {
        "colab": {
          "base_uri": "https://localhost:8080/"
        },
        "id": "NcHXOBI46kWN",
        "outputId": "fe1c5114-fd75-4d85-8d26-6ae446db3885"
      },
      "execution_count": null,
      "outputs": [
        {
          "output_type": "stream",
          "name": "stdout",
          "text": [
            "min and max ID: (218, 1)\n"
          ]
        }
      ]
    },
    {
      "cell_type": "code",
      "source": [
        "query = \"SELECT * FROM publisher\"\n",
        "cur.execute(query)\n",
        "all_books = cur.fetchall()\n",
        "for book in all_books:\n",
        "    print(book)"
      ],
      "metadata": {
        "colab": {
          "base_uri": "https://localhost:8080/"
        },
        "id": "BpHWQmjT63Bd",
        "outputId": "97355b57-6d92-4cbf-9dc6-e904d45b4195"
      },
      "execution_count": null,
      "outputs": [
        {
          "output_type": "stream",
          "name": "stdout",
          "text": [
            "(1, 'Translated Наука')\n",
            "(2, 'Translated Новое знание')\n",
            "(3, 'Translated BHV')\n",
            "(4, 'Translated ИИЛ')\n",
            "(5, 'Translated Энергоатомиздат')\n",
            "(6, 'Translated Физматгиз')\n",
            "(7, 'Translated Мир')\n",
            "(8, 'Translated Экономическая школа')\n",
            "(9, 'Translated Высш. шк.')\n",
            "(10, 'Translated Статистика')\n",
            "(11, 'Translated БХВ-Петербург')\n",
            "(12, 'Translated Профессия')\n",
            "(13, 'Translated ЮНИТИ')\n",
            "(14, 'Translated Вильямс')\n",
            "(15, 'Translated Питер')\n",
            "(16, 'Translated Радио и связь')\n",
            "(17, 'Translated Экономика')\n",
            "(18, 'Translated Зинатне')\n",
            "(19, 'Translated Связь')\n",
            "(20, 'Translated Юнити-Дана')\n",
            "(21, 'Translated Гyманитарный Центр')\n",
            "(22, 'Translated Дело')\n",
            "(23, 'Translated Прогресс')\n",
            "(24, 'Translated Наук. думка')\n",
            "(25, 'Translated Финансы и статистика')\n",
            "(26, 'Translated Изд-во Ин-та математики')\n",
            "(27, 'Translated Новое издательство')\n",
            "(28, 'Translated ЛКИ')\n",
            "(29, 'Translated Едиториал УРСС')\n",
            "(30, 'Translated ФИЗМАТЛИТ')\n",
            "(31, 'Translated Экоперспектива')\n",
            "(32, 'Translated ЮНИТИ-ДАНА')\n",
            "(33, 'Translated Знание')\n",
            "(34, 'Translated Мысль')\n",
            "(35, 'Translated ИНФРА-М')\n",
            "(36, 'Translated Наука для общества')\n",
            "(37, 'Translated Высш.шк.')\n",
            "(38, 'Translated ГУВШЭ')\n",
            "(39, 'Translated АНХ')\n",
            "(40, 'Translated ГУ ВШЭ')\n",
            "(41, 'Translated ВГУ')\n",
            "(42, 'Translated СОЛОН-Пресс')\n",
            "(43, 'Translated ПМСОФТ')\n",
            "(44, 'Translated Сов. радио')\n",
            "(45, 'Translated Академия')\n",
            "(46, 'Translated Факториал Пресс')\n",
            "(47, 'Translated Феникс')\n",
            "(48, 'Translated Ось-89')\n",
            "(49, 'Translated МЭИ')\n",
            "(50, 'Translated СИНТЕГ')\n",
            "(51, 'Translated ФМЛ')\n",
            "(52, 'Translated Дашков и К')\n",
            "(53, 'Translated Финансы')\n",
            "(54, 'Translated Юристъ')\n",
            "(55, 'Translated Горячая линия --- Телеком')\n",
            "(56, 'Translated Машиностроение')\n",
            "(57, 'Translated Экзамен')\n",
            "(58, 'Translated Анкил')\n",
            "(59, 'Translated Гардарики')\n",
            "(60, 'Translated Класс')\n",
            "(61, 'Translated ГТТ')\n",
            "(62, 'Translated НВТ-Дизайн')\n",
            "(63, 'Translated Просвещение')\n",
            "(64, 'Translated АН Арм. ССР')\n",
            "(65, 'Translated МГУ')\n",
            "(66, 'Translated ЛБЗ')\n",
            "(67, 'Translated Имп. Унив. св. Влад.')\n",
            "(68, 'Translated Велби')\n",
            "(69, 'Translated ИЛИМ')\n",
            "(70, 'Translated МЕЦНИЕРЕБА')\n",
            "(71, 'Translated Дело и Сервис')\n",
            "(72, 'Translated Агропромиздат')\n",
            "(73, 'Translated Машиностроение-1')\n",
            "(74, 'Translated БТИПБ')\n",
            "(75, 'Translated Вища школа')\n",
            "(76, 'Translated Олимп-Бизнес')\n",
            "(77, 'Translated Энергоиздат')\n",
            "(78, 'Translated Финстатинформ')\n",
            "(79, 'Translated РЭШ')\n",
            "(80, 'Translated Научная книга')\n",
            "(81, 'Translated ИПХФ РАН')\n",
            "(82, 'Translated ЭКМОС')\n",
            "(83, 'Translated ГУУ')\n",
            "(84, 'Translated Урал. гос. универ.')\n",
            "(85, 'Translated ОНТИ')\n",
            "(86, 'Translated СЗПИ')\n",
            "(87, 'Translated Энергия')\n",
            "(88, 'Translated Наука и техника')\n",
            "(89, 'Translated МИСИО')\n",
            "(90, 'Translated Физматлит')\n",
            "(91, 'Translated МЦНМО')\n",
            "(92, 'Translated ИСА')\n",
            "(93, 'Translated ВШЭ')\n",
            "(94, 'Translated ОРАГС')\n",
            "(95, 'Translated ГАСИС')\n",
            "(96, 'Translated Экономистъ')\n",
            "(97, 'Translated Оникс')\n",
            "(98, 'Translated ИПФ РАН')\n",
            "(99, 'Translated ИНИОН РАН')\n",
            "(100, 'Translated Вита-Пресс')\n",
            "(101, 'Translated Тесей')\n",
            "(102, 'Translated Телеком')\n",
            "(103, 'Translated Эксмо')\n",
            "(104, 'Translated Университет')\n",
            "(105, 'Translated ИжГТУ')\n",
            "(106, 'Translated Эгвес')\n",
            "(107, 'Translated МГТУ им. Н.Э. Баумана')\n",
            "(108, 'Translated Дизайн ПРО')\n",
            "(109, 'Translated Прогрес')\n",
            "(110, 'Translated Факториал')\n",
            "(111, 'Translated НТЛ')\n",
            "(112, 'Translated Выща шк.')\n",
            "(113, 'Translated Сентябрь')\n",
            "(114, 'Translated Питер Ком')\n",
            "(115, 'Translated Апостроф')\n",
            "(116, 'Translated АН СССР')\n",
            "(117, 'Translated Высш. школа')\n",
            "(118, 'Translated Высш. образование')\n",
            "(119, 'Translated РХД')\n",
            "(120, 'Translated Наукова думка')\n",
            "(121, 'Translated Штиинца')\n",
            "(122, 'Translated МФПА')\n",
            "(123, 'Translated ММИЭИ')\n",
            "(124, 'Translated Логос')\n",
            "(125, 'Translated Астрель')\n",
            "(126, 'Translated Рус. яз.')\n",
            "(127, 'Translated Символ-Плюс')\n",
            "(128, 'Translated Советское радио')\n",
            "(129, 'Translated Лори')\n",
            "(130, 'Translated Горячая линия-Телеком')\n",
            "(131, 'Translated Союз')\n",
            "(132, 'Translated Изд. центр ЕАОИ')\n",
            "(133, 'Translated ЛИБРОКОМ')\n",
            "(134, 'Translated МЭСИ')\n",
            "(135, 'Translated Бизнес-школа')\n",
            "(136, 'Translated МАКС Пресс')\n",
            "(137, 'Translated БИНОМ')\n",
            "(138, 'Translated КомКнига')\n",
            "(139, 'Translated PMI')\n",
            "(140, 'Translated Альпина')\n",
            "(141, 'Translated ЕАОИ')\n",
            "(142, 'Translated ДИАЛОГ-МИФИ')\n",
            "(143, 'Translated ЗАО <<ПМСОФТ>>')\n",
            "(144, 'Translated НГУ')\n",
            "(145, 'Translated СО РАН')\n",
            "(146, 'Translated ХПИ')\n",
            "(147, 'Translated Диалектика')\n",
            "(148, 'Translated Специальная Литература')\n",
            "(149, 'Translated Инст. компл. страт. исслед.')\n",
            "(150, 'Translated ТНТ')\n",
            "(151, 'Translated ЛУ')\n",
            "(152, 'Translated Технiка')\n",
            "(153, 'Translated Стандарты и качество')\n",
            "(154, 'Translated МАИ')\n",
            "(155, 'Translated Красанд')\n",
            "(156, 'Translated Неизвестно')\n",
            "(157, 'Translated Институт экономики РАН')\n",
            "(158, 'Translated Вузовская книга')\n",
            "(159, 'Translated ИКСИ')\n",
            "(160, 'Translated ЛЕНАНД')\n",
            "(161, 'Translated Либроком')\n",
            "(162, 'Translated СПбГУАП')\n",
            "(163, 'Translated Эдиториал УРСС')\n",
            "(164, 'Translated ИПРЖР')\n",
            "(165, 'Translated Университетская книга')\n",
            "(166, 'Translated Советская Энциклопедия')\n",
            "(167, 'Translated Лань')\n",
            "(168, 'Translated НИЯУ МИФИ')\n",
            "(169, 'Translated МИФИ')\n",
            "(170, 'Translated Проспект')\n",
            "(171, 'Translated МФТИ')\n",
            "(172, 'Translated Инфра-М')\n",
            "(173, 'Translated ГИТТЛ')\n",
            "(174, 'Translated Спец. лит-ра')\n",
            "(175, 'Translated Бином')\n",
            "(176, 'Translated Судостроение')\n",
            "(177, 'Translated Высшая школа')\n",
            "(178, 'Translated КОРОНА-Век')\n",
            "(179, 'Translated Дрофа')\n",
            "(180, 'Translated ЯСК')\n",
            "(181, 'Translated ЛЭГИ')\n",
            "(182, 'Translated Восток-Запад')\n",
            "(183, 'Translated ЧеРо')\n",
            "(184, 'Translated Научный эксперт')\n",
            "(185, 'Translated Учб. пед. изд.')\n",
            "(186, 'Translated Тетра')\n",
            "(187, 'Translated Бизнес-пресса')\n",
            "(188, 'Translated Рус.яз.')\n",
            "(189, 'Translated Аэроконсалт')\n",
            "(190, 'Translated ДВГУ')\n",
            "(191, 'Translated ИУИТ')\n",
            "(192, 'Translated МГТУ им. Н.Э.Баумана')\n",
            "(193, 'Translated Феликс')\n",
            "(194, 'Translated ФОРУМ')\n",
            "(195, 'Translated Четыре четверти')\n",
            "(196, 'Translated С.-Петерб. ун-та')\n",
            "(197, 'Translated Альпина Паблишер')\n",
            "(198, 'Translated ИПП Куна')\n",
            "(199, 'Translated ДМК Пресс')\n",
            "(200, 'Translated Новое звание')\n",
            "(201, 'Translated Гелиос')\n",
            "(202, 'Translated Филин')\n",
            "(203, 'Translated Добросвет')\n",
            "(204, 'Translated ИПУ РАН')\n",
            "(205, 'Translated УСЭ')\n",
            "(206, 'Translated СПбГПУ')\n",
            "(207, 'Translated РАГС')\n",
            "(208, 'Translated РУДН')\n",
            "(209, 'Translated Книга')\n",
            "(210, 'Translated БГУ')\n",
            "(211, 'Translated ТМЛ-Пресс')\n",
            "(212, 'Translated Новосиб. гос. ун-т')\n",
            "(213, 'Translated ИИнтеЛЛ')\n",
            "(214, 'Translated Препринт')\n",
            "(215, 'Translated АСТ')\n",
            "(216, 'Translated Физматкнига')\n",
            "(217, 'Translated ГПНТБ')\n",
            "(218, 'Translated КГТУ')\n"
          ]
        }
      ]
    }
  ]
}