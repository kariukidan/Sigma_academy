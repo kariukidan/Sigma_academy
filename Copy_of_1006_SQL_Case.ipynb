{
  "nbformat": 4,
  "nbformat_minor": 0,
  "metadata": {
    "colab": {
      "provenance": [],
      "include_colab_link": true
    },
    "kernelspec": {
      "name": "python3",
      "display_name": "Python 3"
    },
    "language_info": {
      "name": "python"
    }
  },
  "cells": [
    {
      "cell_type": "markdown",
      "metadata": {
        "id": "view-in-github",
        "colab_type": "text"
      },
      "source": [
        "<a href=\"https://colab.research.google.com/github/kariukidan/Sigma_academy/blob/main/Copy_of_1006_SQL_Case.ipynb\" target=\"_parent\"><img src=\"https://colab.research.google.com/assets/colab-badge.svg\" alt=\"Open In Colab\"/></a>"
      ]
    },
    {
      "cell_type": "markdown",
      "source": [
        "\n",
        "**Project: Sales Analysis Using the Northwind Database and Python\n",
        "Project Description**\n",
        "\n",
        "Students will use the Northwind database to analyze sales and create reports using SQL and Python. The project includes the following stages:\n",
        "\n",
        "-- Database Connection: Use Python to connect to the SQL database.\n",
        "\n",
        "-- Data Extraction: Write SQL queries to extract data from the database.\n",
        "\n",
        "-- Data Analysis: Analyze the extracted data using Pandas and Matplotlib libraries.\n",
        "\n",
        "-- Data Visualization: Create visualizations to present the analysis results."
      ],
      "metadata": {
        "id": "1W5ev5HVt_cI"
      }
    },
    {
      "cell_type": "code",
      "source": [
        "# Install necessary libraries\n",
        "!pip install pandas matplotlib\n",
        "\n"
      ],
      "metadata": {
        "colab": {
          "base_uri": "https://localhost:8080/"
        },
        "id": "1-cgM3fotInT",
        "outputId": "f948c243-b03f-4df3-ab85-f98855f4b03c"
      },
      "execution_count": null,
      "outputs": [
        {
          "output_type": "stream",
          "name": "stdout",
          "text": [
            "Requirement already satisfied: pandas in /usr/local/lib/python3.10/dist-packages (2.0.3)\n",
            "Requirement already satisfied: matplotlib in /usr/local/lib/python3.10/dist-packages (3.7.1)\n",
            "Requirement already satisfied: python-dateutil>=2.8.2 in /usr/local/lib/python3.10/dist-packages (from pandas) (2.8.2)\n",
            "Requirement already satisfied: pytz>=2020.1 in /usr/local/lib/python3.10/dist-packages (from pandas) (2023.4)\n",
            "Requirement already satisfied: tzdata>=2022.1 in /usr/local/lib/python3.10/dist-packages (from pandas) (2024.1)\n",
            "Requirement already satisfied: numpy>=1.21.0 in /usr/local/lib/python3.10/dist-packages (from pandas) (1.25.2)\n",
            "Requirement already satisfied: contourpy>=1.0.1 in /usr/local/lib/python3.10/dist-packages (from matplotlib) (1.2.1)\n",
            "Requirement already satisfied: cycler>=0.10 in /usr/local/lib/python3.10/dist-packages (from matplotlib) (0.12.1)\n",
            "Requirement already satisfied: fonttools>=4.22.0 in /usr/local/lib/python3.10/dist-packages (from matplotlib) (4.53.0)\n",
            "Requirement already satisfied: kiwisolver>=1.0.1 in /usr/local/lib/python3.10/dist-packages (from matplotlib) (1.4.5)\n",
            "Requirement already satisfied: packaging>=20.0 in /usr/local/lib/python3.10/dist-packages (from matplotlib) (24.0)\n",
            "Requirement already satisfied: pillow>=6.2.0 in /usr/local/lib/python3.10/dist-packages (from matplotlib) (9.4.0)\n",
            "Requirement already satisfied: pyparsing>=2.3.1 in /usr/local/lib/python3.10/dist-packages (from matplotlib) (3.1.2)\n",
            "Requirement already satisfied: six>=1.5 in /usr/local/lib/python3.10/dist-packages (from python-dateutil>=2.8.2->pandas) (1.16.0)\n"
          ]
        }
      ]
    },
    {
      "cell_type": "markdown",
      "source": [
        "**Students must write several SQL queries to retrieve data:**\n",
        "Retrieving a list of all products and their categories.\n",
        "\n",
        "Find all customers who have placed orders in the last 5 years.\n",
        "\n",
        "Determine the top 10 best-selling products"
      ],
      "metadata": {
        "id": "tid6nod_toZd"
      }
    },
    {
      "cell_type": "code",
      "source": [
        "import sqlite3\n",
        "import pandas as pd\n",
        "import matplotlib.pyplot as plt\n",
        "\n",
        "# Path to your SQLite database file\n",
        "database = '/content/Northwind_small.sqlite'  # Ensure the file is correctly uploaded to Colab"
      ],
      "metadata": {
        "id": "YVpfbrWr7iOV"
      },
      "execution_count": null,
      "outputs": []
    },
    {
      "cell_type": "code",
      "source": [
        "# Function to create a connection to the SQLite database\n",
        "def create_connection(db_file):\n",
        "    \"\"\"Create a database connection to a SQLite database.\"\"\"\n",
        "    conn = None\n",
        "    try:\n",
        "        conn = sqlite3.connect(db_file)\n",
        "        print(\"Connection to SQLite DB successful\")\n",
        "    except sqlite3.Error as e:\n",
        "        print(f\"The error '{e}' occurred\")\n",
        "    return conn\n",
        "\n",
        "# Function to execute a SQL query and return a pandas DataFrame\n",
        "def execute_query(conn, query):\n",
        "    \"\"\"Execute a SQL query and return a pandas DataFrame.\"\"\"\n",
        "    try:\n",
        "        cursor = conn.cursor()\n",
        "        cursor.execute(query)\n",
        "        col_names = [description[0] for description in cursor.description]\n",
        "        rows = cursor.fetchall()\n",
        "        df = pd.DataFrame(rows, columns=col_names)\n",
        "        return df\n",
        "    except sqlite3.Error as e:\n",
        "        print(f\"The error '{e}' occurred\")\n",
        "        return None\n",
        "\n",
        "# Create a connection to the database\n",
        "conn = create_connection(database)"
      ],
      "metadata": {
        "id": "fiR5VlLSuzPH",
        "colab": {
          "base_uri": "https://localhost:8080/"
        },
        "outputId": "0a9fc934-68d0-4278-df9b-bdc3d2a34312"
      },
      "execution_count": null,
      "outputs": [
        {
          "output_type": "stream",
          "name": "stdout",
          "text": [
            "Connection to SQLite DB successful\n"
          ]
        }
      ]
    },
    {
      "cell_type": "code",
      "source": [
        "def get_table_names(conn):\n",
        "    \"\"\"Retrieve all table names from the SQLite database.\"\"\"\n",
        "    query = \"SELECT name FROM sqlite_master WHERE type='table';\"\n",
        "    try:\n",
        "        cursor = conn.cursor()\n",
        "        cursor.execute(query)\n",
        "        tables = cursor.fetchall()\n",
        "        table_names = [table[0] for table in tables]\n",
        "        return table_names\n",
        "    except sqlite3.Error as e:\n",
        "        print(f\"The error '{e}' occurred\")\n",
        "        return []\n",
        "tables = get_table_names(conn)\n",
        "print(\"Tables in the database:\")\n",
        "print(tables)"
      ],
      "metadata": {
        "colab": {
          "base_uri": "https://localhost:8080/"
        },
        "id": "GLMTun-Hxi-r",
        "outputId": "8f58ae74-7279-4773-85bf-118298533f66"
      },
      "execution_count": null,
      "outputs": [
        {
          "output_type": "stream",
          "name": "stdout",
          "text": [
            "Tables in the database:\n",
            "['Employee', 'Category', 'Customer', 'Shipper', 'Supplier', 'Order', 'Product', 'OrderDetail', 'CustomerCustomerDemo', 'CustomerDemographic', 'Region', 'Territory', 'EmployeeTerritory']\n"
          ]
        }
      ]
    },
    {
      "cell_type": "code",
      "source": [
        "# Step 4: Extract data with SQL queries\n",
        "#1 Retrieving a list of all products and their categories.\n",
        "\n",
        "query_all_products_and_categories = \"\"\"SELECT Product.ProductName, Category.CategoryName FROM Product INNER JOIN Category ON Product.CategoryId = Category.Id\"\"\"\n",
        "df_products = execute_query(conn, query_all_products_and_categories)\n",
        "print(df_products)"
      ],
      "metadata": {
        "colab": {
          "base_uri": "https://localhost:8080/"
        },
        "id": "K_BC3UPJI3qC",
        "outputId": "ad2d9925-32af-4ac2-b1af-1caf7b20e73f"
      },
      "execution_count": null,
      "outputs": [
        {
          "output_type": "stream",
          "name": "stdout",
          "text": [
            "                        ProductName CategoryName\n",
            "0                              Chai    Beverages\n",
            "1                             Chang    Beverages\n",
            "2                     Aniseed Syrup   Condiments\n",
            "3      Chef Anton's Cajun Seasoning   Condiments\n",
            "4            Chef Anton's Gumbo Mix   Condiments\n",
            "..                              ...          ...\n",
            "72                       Röd Kaviar      Seafood\n",
            "73                    Longlife Tofu      Produce\n",
            "74             Rhönbräu Klosterbier    Beverages\n",
            "75                     Lakkalikööri    Beverages\n",
            "76  Original Frankfurter grüne Soße   Condiments\n",
            "\n",
            "[77 rows x 2 columns]\n"
          ]
        }
      ]
    },
    {
      "cell_type": "code",
      "source": [
        "query = \"SELECT* FROM Category\"\n",
        "df = execute_query(conn, query)\n",
        "print(df)"
      ],
      "metadata": {
        "colab": {
          "base_uri": "https://localhost:8080/"
        },
        "id": "e0LWl1obLhAy",
        "outputId": "85543a25-1317-413a-9c8d-5fe7fbea570b"
      },
      "execution_count": null,
      "outputs": [
        {
          "output_type": "stream",
          "name": "stdout",
          "text": [
            "   Id    CategoryName                                        Description\n",
            "0   1       Beverages        Soft drinks, coffees, teas, beers, and ales\n",
            "1   2      Condiments  Sweet and savory sauces, relishes, spreads, an...\n",
            "2   3     Confections                Desserts, candies, and sweet breads\n",
            "3   4  Dairy Products                                            Cheeses\n",
            "4   5  Grains/Cereals                Breads, crackers, pasta, and cereal\n",
            "5   6    Meat/Poultry                                     Prepared meats\n",
            "6   7         Produce                          Dried fruit and bean curd\n",
            "7   8         Seafood                                   Seaweed and fish\n"
          ]
        }
      ]
    },
    {
      "cell_type": "code",
      "source": [
        "query = \"SELECT* FROM Product\"\n",
        "df = execute_query(conn, query)\n",
        "print(df)"
      ],
      "metadata": {
        "colab": {
          "base_uri": "https://localhost:8080/"
        },
        "id": "wRwtUOM7LoGr",
        "outputId": "9f7c0636-748a-489d-920e-f9fadde97727"
      },
      "execution_count": null,
      "outputs": [
        {
          "output_type": "stream",
          "name": "stdout",
          "text": [
            "    Id                      ProductName  SupplierId  CategoryId  \\\n",
            "0    1                             Chai           1           1   \n",
            "1    2                            Chang           1           1   \n",
            "2    3                    Aniseed Syrup           1           2   \n",
            "3    4     Chef Anton's Cajun Seasoning           2           2   \n",
            "4    5           Chef Anton's Gumbo Mix           2           2   \n",
            "..  ..                              ...         ...         ...   \n",
            "72  73                       Röd Kaviar          17           8   \n",
            "73  74                    Longlife Tofu           4           7   \n",
            "74  75             Rhönbräu Klosterbier          12           1   \n",
            "75  76                     Lakkalikööri          23           1   \n",
            "76  77  Original Frankfurter grüne Soße          12           2   \n",
            "\n",
            "        QuantityPerUnit  UnitPrice  UnitsInStock  UnitsOnOrder  ReorderLevel  \\\n",
            "0    10 boxes x 20 bags      18.00            39             0            10   \n",
            "1    24 - 12 oz bottles      19.00            17            40            25   \n",
            "2   12 - 550 ml bottles      10.00            13            70            25   \n",
            "3        48 - 6 oz jars      22.00            53             0             0   \n",
            "4              36 boxes      21.35             0             0             0   \n",
            "..                  ...        ...           ...           ...           ...   \n",
            "72      24 - 150 g jars      15.00           101             0             5   \n",
            "73            5 kg pkg.      10.00             4            20             5   \n",
            "74   24 - 0.5 l bottles       7.75           125             0            25   \n",
            "75               500 ml      18.00            57             0            20   \n",
            "76             12 boxes      13.00            32             0            15   \n",
            "\n",
            "    Discontinued  \n",
            "0              0  \n",
            "1              0  \n",
            "2              0  \n",
            "3              0  \n",
            "4              1  \n",
            "..           ...  \n",
            "72             0  \n",
            "73             0  \n",
            "74             0  \n",
            "75             0  \n",
            "76             0  \n",
            "\n",
            "[77 rows x 10 columns]\n"
          ]
        }
      ]
    },
    {
      "cell_type": "code",
      "source": [
        "\n",
        "# Step 4: Extract data with SQL queries\n",
        "\n",
        "# Example query to get all customers\n",
        "query_customers = \"SELECT * FROM Customer\"  # Correct table name\n",
        "df_customers = execute_query(conn, query_customers)\n",
        "\n",
        "# Display the first few rows of the Customers table\n",
        "if df_customers is not None:\n",
        "    print(\"Customers Table:\")\n",
        "    print(df_customers.head())\n",
        "\n",
        "# Example query to get the top 10 best selling products\n",
        "query_top_products = \"\"\"\n",
        "SELECT Product.ProductName, SUM(OrderDetail.Quantity) as TotalQuantity\n",
        "FROM OrderDetail\n",
        "JOIN Product ON OrderDetail.ProductID = Product.ProductID\n",
        "GROUP BY Product.ProductName\n",
        "ORDER BY TotalQuantity DESC\n",
        "LIMIT 10;\n",
        "\"\"\"\n",
        "\n",
        "df_top_products = execute_query(conn, query_top_products)\n",
        "\n",
        "# Display the first few rows of the top 10 best selling products\n",
        "if df_top_products is not None:\n",
        "    print(\"\\nTop 10 Best Selling Products:\")\n",
        "    print(df_top_products)\n",
        "\n",
        "# Step 5: Analyze and visualize the data\n",
        "\n",
        "# Visualization of top 10 best selling products\n",
        "if df_top_products is not None:\n",
        "    plt.figure(figsize=(10, 6))\n",
        "    plt.bar(df_top_products['ProductName'], df_top_products['TotalQuantity'], color='skyblue')\n",
        "    plt.xlabel('Product Name')\n",
        "    plt.ylabel('Total Quantity Sold')\n",
        "    plt.title('Top 10 Best Selling Products')\n",
        "    plt.xticks(rotation=45)\n",
        "    plt.show()\n",
        "\n",
        "# Close the connection to the database\n",
        "if conn:\n",
        "    conn.close()\n"
      ],
      "metadata": {
        "colab": {
          "base_uri": "https://localhost:8080/"
        },
        "id": "KuWccW2cyAWB",
        "outputId": "0ff65f93-6755-4fdb-8b05-a1f161a0ddf2"
      },
      "execution_count": null,
      "outputs": [
        {
          "output_type": "stream",
          "name": "stdout",
          "text": [
            "Customers Table:\n",
            "      Id                         CompanyName         ContactName  \\\n",
            "0  ALFKI                 Alfreds Futterkiste        Maria Anders   \n",
            "1  ANATR  Ana Trujillo Emparedados y helados        Ana Trujillo   \n",
            "2  ANTON             Antonio Moreno Taquería      Antonio Moreno   \n",
            "3  AROUT                     Around the Horn        Thomas Hardy   \n",
            "4  BERGS                  Berglunds snabbköp  Christina Berglund   \n",
            "\n",
            "           ContactTitle                        Address         City  \\\n",
            "0  Sales Representative                  Obere Str. 57       Berlin   \n",
            "1                 Owner  Avda. de la Constitución 2222  México D.F.   \n",
            "2                 Owner                Mataderos  2312  México D.F.   \n",
            "3  Sales Representative                120 Hanover Sq.       London   \n",
            "4   Order Administrator                Berguvsvägen  8        Luleå   \n",
            "\n",
            "            Region PostalCode  Country           Phone             Fax  \n",
            "0   Western Europe      12209  Germany     030-0074321     030-0076545  \n",
            "1  Central America      05021   Mexico    (5) 555-4729    (5) 555-3745  \n",
            "2  Central America      05023   Mexico    (5) 555-3932            None  \n",
            "3    British Isles    WA1 1DP       UK  (171) 555-7788  (171) 555-6750  \n",
            "4  Northern Europe   S-958 22   Sweden   0921-12 34 65   0921-12 34 67  \n",
            "The error 'no such column: Product.ProductID' occurred\n"
          ]
        }
      ]
    }
  ]
}