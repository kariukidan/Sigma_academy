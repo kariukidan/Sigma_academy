{
  "nbformat": 4,
  "nbformat_minor": 0,
  "metadata": {
    "colab": {
      "provenance": [],
      "include_colab_link": true
    },
    "kernelspec": {
      "name": "python3",
      "display_name": "Python 3"
    },
    "language_info": {
      "name": "python"
    }
  },
  "cells": [
    {
      "cell_type": "markdown",
      "metadata": {
        "id": "view-in-github",
        "colab_type": "text"
      },
      "source": [
        "<a href=\"https://colab.research.google.com/github/kariukidan/Sigma_academy/blob/main/Copy_of_2904_Practice_class_JOIN_Methods.ipynb\" target=\"_parent\"><img src=\"https://colab.research.google.com/assets/colab-badge.svg\" alt=\"Open In Colab\"/></a>"
      ]
    },
    {
      "cell_type": "code",
      "execution_count": null,
      "metadata": {
        "colab": {
          "base_uri": "https://localhost:8080/"
        },
        "id": "UWrxdkWDhGWz",
        "outputId": "de00d6f8-a62f-4103-f991-f7e69e2f9b1f"
      },
      "outputs": [
        {
          "output_type": "execute_result",
          "data": {
            "text/plain": [
              "<sqlite3.Cursor at 0x7d17fc0ded40>"
            ]
          },
          "metadata": {},
          "execution_count": 1
        }
      ],
      "source": [
        "import sqlite3\n",
        "import pandas as pd\n",
        "\n",
        "# Connect to the SQLite database\n",
        "conn = sqlite3.connect('sample.db')\n",
        "cursor = conn.cursor()\n",
        "\n",
        "# Create tables\n",
        "conn.execute('''CREATE TABLE IF NOT EXISTS Students (\n",
        "                student_id INTEGER PRIMARY KEY,\n",
        "                name TEXT,\n",
        "                age INTEGER)''')\n",
        "\n",
        "conn.execute('''CREATE TABLE IF NOT EXISTS courses (\n",
        "                course_id INTEGER PRIMARY KEY,\n",
        "                course_name TEXT)''')\n",
        "\n",
        "conn.execute('''CREATE TABLE IF NOT EXISTS grades (\n",
        "                student_id INTEGER,\n",
        "                course_id INTEGER,\n",
        "                grade TEXT,\n",
        "                FOREIGN KEY(student_id) REFERENCES students(student_id),\n",
        "                FOREIGN KEY(course_id) REFERENCES courses(course_id))''')\n",
        "\n"
      ]
    },
    {
      "cell_type": "code",
      "source": [
        "# Sample data for students, courses, and grades\n",
        "students_data = [(1, 'Alice', 20),\n",
        "                 (2, 'Bob', 21),\n",
        "                 (3, 'Charlie', 19),\n",
        "                 (4, 'David', 22),\n",
        "                 (5, 'Eve', 20),\n",
        "                 (6, 'Frank', 21),\n",
        "                 (7, 'Grace', 19),\n",
        "                 (8, 'Harry', 22),\n",
        "                 (9, 'Ivy', 20),\n",
        "                 (10, 'Jack', 21)]\n",
        "\n",
        "courses_data = [(101, 'Math'),\n",
        "                (102, 'Physics'),\n",
        "                (103, 'Chemistry'),\n",
        "                (104, 'Biology'),\n",
        "                (105, 'History'),\n",
        "                (106, 'Literature'),\n",
        "                (107, 'Computer Science'),\n",
        "                (108, 'Art')]\n",
        "\n",
        "\n",
        "grades_data = [\n",
        "               (3, 103, 'C'),\n",
        "               (4, 104, 'A'),\n",
        "               (5, 105, 'B'),\n",
        "               (6, 106, 'C'),\n",
        "               (7, 107, 'A'),\n",
        "               (8, 108, 'B'),\n",
        "               (9, 109, 'C'),\n",
        "               (10, 110, 'A')]\n",
        "\n",
        "# Insert sample data into tables\n",
        "conn.executemany('INSERT INTO students VALUES (?, ?, ?)', students_data)\n",
        "conn.executemany('INSERT INTO courses VALUES (?, ?)', courses_data)\n",
        "conn.executemany('INSERT INTO grades VALUES (?, ?, ?)', grades_data)\n"
      ],
      "metadata": {
        "colab": {
          "base_uri": "https://localhost:8080/"
        },
        "id": "wKEOEpA4htNJ",
        "outputId": "d1e359b9-a767-4e97-c836-3aaf21dbf06c"
      },
      "execution_count": null,
      "outputs": [
        {
          "output_type": "execute_result",
          "data": {
            "text/plain": [
              "<sqlite3.Cursor at 0x7d17fc0df2c0>"
            ]
          },
          "metadata": {},
          "execution_count": 2
        }
      ]
    },
    {
      "cell_type": "code",
      "source": [
        "cursor = conn.cursor()"
      ],
      "metadata": {
        "id": "Up6umPumt0-D"
      },
      "execution_count": null,
      "outputs": []
    },
    {
      "cell_type": "code",
      "source": [
        "cursor.execute(\"SELECT * from students ORDER By  student_id LIMIT 5\")\n",
        "cursor.fetchall()"
      ],
      "metadata": {
        "colab": {
          "base_uri": "https://localhost:8080/"
        },
        "id": "NlyYxDBFszwB",
        "outputId": "45a95dc7-f35c-4cfd-a1b6-aaa8127a0f9f"
      },
      "execution_count": null,
      "outputs": [
        {
          "output_type": "execute_result",
          "data": {
            "text/plain": [
              "[(1, 'Alice', 20),\n",
              " (2, 'Bob', 21),\n",
              " (3, 'Charlie', 19),\n",
              " (4, 'David', 22),\n",
              " (5, 'Eve', 20)]"
            ]
          },
          "metadata": {},
          "execution_count": 4
        }
      ]
    },
    {
      "cell_type": "code",
      "source": [
        "cursor.execute(\"SELECT * from students LIMIT 5\")\n",
        "cursor.fetchall()"
      ],
      "metadata": {
        "colab": {
          "base_uri": "https://localhost:8080/"
        },
        "id": "uziaEmjpxitB",
        "outputId": "d03c741d-7e63-4358-a33f-39f5f2ccc3bd"
      },
      "execution_count": null,
      "outputs": [
        {
          "output_type": "execute_result",
          "data": {
            "text/plain": [
              "[(1, 'Alice', 20),\n",
              " (2, 'Bob', 21),\n",
              " (3, 'Charlie', 19),\n",
              " (4, 'David', 22),\n",
              " (5, 'Eve', 20)]"
            ]
          },
          "metadata": {},
          "execution_count": 7
        }
      ]
    },
    {
      "cell_type": "code",
      "source": [
        "cursor.execute(\"SELECT * from students WHERE ROWID <= 5\")\n",
        "cursor.fetchall()"
      ],
      "metadata": {
        "colab": {
          "base_uri": "https://localhost:8080/"
        },
        "id": "8TtyLDxuutgf",
        "outputId": "f66a6a69-6c54-47ed-b92d-755d6368aad3"
      },
      "execution_count": null,
      "outputs": [
        {
          "output_type": "execute_result",
          "data": {
            "text/plain": [
              "[(1, 'Alice', 20),\n",
              " (2, 'Bob', 21),\n",
              " (3, 'Charlie', 19),\n",
              " (4, 'David', 22),\n",
              " (5, 'Eve', 20)]"
            ]
          },
          "metadata": {},
          "execution_count": 6
        }
      ]
    },
    {
      "cell_type": "code",
      "source": [
        "cursor.execute(\"SELECT * from grades WHERE ROWID <= 5\")\n",
        "cursor.fetchall()"
      ],
      "metadata": {
        "colab": {
          "base_uri": "https://localhost:8080/"
        },
        "id": "SByF_ZPqy0RH",
        "outputId": "9b6ab961-d6a5-4bcc-e909-5abf22453986"
      },
      "execution_count": null,
      "outputs": [
        {
          "output_type": "execute_result",
          "data": {
            "text/plain": [
              "[(3, 103, 'C'), (4, 104, 'A'), (5, 105, 'B'), (6, 106, 'C'), (7, 107, 'A')]"
            ]
          },
          "metadata": {},
          "execution_count": 8
        }
      ]
    },
    {
      "cell_type": "code",
      "source": [
        "cursor.execute(\"SELECT * from courses WHERE ROWID <= 105\")\n",
        "cursor.fetchall()"
      ],
      "metadata": {
        "colab": {
          "base_uri": "https://localhost:8080/"
        },
        "id": "5nrxC4sjy9LZ",
        "outputId": "1db76c10-1625-400c-831d-33d79f86e846"
      },
      "execution_count": null,
      "outputs": [
        {
          "output_type": "execute_result",
          "data": {
            "text/plain": [
              "[(101, 'Math'),\n",
              " (102, 'Physics'),\n",
              " (103, 'Chemistry'),\n",
              " (104, 'Biology'),\n",
              " (105, 'History')]"
            ]
          },
          "metadata": {},
          "execution_count": 9
        }
      ]
    },
    {
      "cell_type": "code",
      "source": [
        "# Examples of queries using JOIN operators\n",
        "# INNER JOIN\n",
        "inner_join_query = '''\n",
        "SELECT students.name, courses.course_name, grades.grade\n",
        "FROM students\n",
        "INNER JOIN grades ON students.student_id = grades.student_id\n",
        "INNER JOIN courses ON grades.course_id = courses.course_id\n",
        "'''\n",
        "cursor.execute(inner_join_query)"
      ],
      "metadata": {
        "colab": {
          "base_uri": "https://localhost:8080/"
        },
        "id": "7l0lifbGzsWh",
        "outputId": "0f519e21-3780-4af8-b73c-7e1432d763a6"
      },
      "execution_count": null,
      "outputs": [
        {
          "output_type": "execute_result",
          "data": {
            "text/plain": [
              "<sqlite3.Cursor at 0x7d17fc0df340>"
            ]
          },
          "metadata": {},
          "execution_count": 5
        }
      ]
    },
    {
      "cell_type": "code",
      "source": [
        "results = cursor.fetchall()\n",
        "for row in results:\n",
        "  print(row)"
      ],
      "metadata": {
        "colab": {
          "base_uri": "https://localhost:8080/"
        },
        "id": "ifUQ3teE2D_G",
        "outputId": "928b4e84-7d78-4e3d-e8e8-fb7b21386451"
      },
      "execution_count": null,
      "outputs": [
        {
          "output_type": "stream",
          "name": "stdout",
          "text": [
            "('Charlie', 'Chemistry', 'C')\n",
            "('David', 'Biology', 'A')\n",
            "('Eve', 'History', 'B')\n",
            "('Frank', 'Literature', 'C')\n",
            "('Grace', 'Computer Science', 'A')\n",
            "('Harry', 'Art', 'B')\n"
          ]
        }
      ]
    },
    {
      "cell_type": "code",
      "source": [
        "# LEFT JOIN\n",
        "left_join_query = '''\n",
        "SELECT students.name, courses.course_name, grades.grade\n",
        "FROM students\n",
        "LEFT JOIN grades ON students.student_id = grades.student_id\n",
        "LEFT JOIN courses ON grades.course_id = courses.course_id\n",
        "'''\n",
        "\n",
        "cursor.execute(left_join_query)"
      ],
      "metadata": {
        "colab": {
          "base_uri": "https://localhost:8080/"
        },
        "id": "xHi2EvAc4jjS",
        "outputId": "02c617cd-5739-4e17-d920-95629430f59d"
      },
      "execution_count": null,
      "outputs": [
        {
          "output_type": "execute_result",
          "data": {
            "text/plain": [
              "<sqlite3.Cursor at 0x7d17fc0df340>"
            ]
          },
          "metadata": {},
          "execution_count": 7
        }
      ]
    },
    {
      "cell_type": "code",
      "source": [
        "results = cursor.fetchall()\n",
        "for row in results:\n",
        "  print(row)"
      ],
      "metadata": {
        "colab": {
          "base_uri": "https://localhost:8080/"
        },
        "id": "MS9GOAjl478u",
        "outputId": "98c19603-1f0f-452d-a998-9a6977301373"
      },
      "execution_count": null,
      "outputs": [
        {
          "output_type": "stream",
          "name": "stdout",
          "text": [
            "('Alice', None, None)\n",
            "('Bob', None, None)\n",
            "('Charlie', 'Chemistry', 'C')\n",
            "('David', 'Biology', 'A')\n",
            "('Eve', 'History', 'B')\n",
            "('Frank', 'Literature', 'C')\n",
            "('Grace', 'Computer Science', 'A')\n",
            "('Harry', 'Art', 'B')\n",
            "('Ivy', None, 'C')\n",
            "('Jack', None, 'A')\n"
          ]
        }
      ]
    },
    {
      "cell_type": "code",
      "source": [
        "# RIGHT JOIN (Simulated using LEFT JOIN with switched tables)\n",
        "right_join_query = '''\n",
        "SELECT students.name, courses.course_name, grades.grade\n",
        "FROM courses\n",
        "LEFT JOIN grades ON courses.course_id = grades.course_id\n",
        "LEFT JOIN students ON grades.student_id = students.student_id\n",
        "'''\n",
        "cursor.execute(right_join_query)\n"
      ],
      "metadata": {
        "colab": {
          "base_uri": "https://localhost:8080/"
        },
        "id": "-iB4B1XKiTzB",
        "outputId": "d71f16a8-1725-4e9b-fe24-dad7df4c8b9a"
      },
      "execution_count": null,
      "outputs": [
        {
          "output_type": "execute_result",
          "data": {
            "text/plain": [
              "<sqlite3.Cursor at 0x7d17fc0df340>"
            ]
          },
          "metadata": {},
          "execution_count": 11
        }
      ]
    },
    {
      "cell_type": "code",
      "source": [
        "results = cursor.fetchall()\n",
        "for row in results:\n",
        "  print(row)"
      ],
      "metadata": {
        "colab": {
          "base_uri": "https://localhost:8080/"
        },
        "id": "5jjB-jWMiq_N",
        "outputId": "51a1653f-3b66-4299-d232-075b5742b2e6"
      },
      "execution_count": null,
      "outputs": [
        {
          "output_type": "stream",
          "name": "stdout",
          "text": [
            "(None, 'Math', None)\n",
            "(None, 'Physics', None)\n",
            "('Charlie', 'Chemistry', 'C')\n",
            "('David', 'Biology', 'A')\n",
            "('Eve', 'History', 'B')\n",
            "('Frank', 'Literature', 'C')\n",
            "('Grace', 'Computer Science', 'A')\n",
            "('Harry', 'Art', 'B')\n"
          ]
        }
      ]
    },
    {
      "cell_type": "code",
      "source": [
        "#students with no mark\n",
        "query = '''\n",
        "SELECT students.name, students.age, students.student_id\n",
        "FROM students\n",
        "LEFT JOIN grades ON students.student_id = grades.student_id\n",
        "WHERE grades.grade is NULL\n",
        "'''\n",
        "cursor.execute(query)\n"
      ],
      "metadata": {
        "colab": {
          "base_uri": "https://localhost:8080/"
        },
        "id": "FBBrCFkxj_w8",
        "outputId": "e606b82e-dd66-48d2-a7dc-90a4847be0fe"
      },
      "execution_count": null,
      "outputs": [
        {
          "output_type": "execute_result",
          "data": {
            "text/plain": [
              "<sqlite3.Cursor at 0x7d17fc0df340>"
            ]
          },
          "metadata": {},
          "execution_count": 14
        }
      ]
    },
    {
      "cell_type": "code",
      "source": [
        "results = cursor.fetchall()\n",
        "for row in results:\n",
        "  print(row)"
      ],
      "metadata": {
        "colab": {
          "base_uri": "https://localhost:8080/"
        },
        "id": "DxaVIRKpktFw",
        "outputId": "1b78e0c1-a8d7-4779-8c9a-55b179d24581"
      },
      "execution_count": null,
      "outputs": [
        {
          "output_type": "stream",
          "name": "stdout",
          "text": [
            "('Alice', 20, 1)\n",
            "('Bob', 21, 2)\n"
          ]
        }
      ]
    },
    {
      "cell_type": "code",
      "source": [
        "query = '''\n",
        "SELECT courses.course_name\n",
        "FROM courses\n",
        "LEFT JOIN grades ON grades.course_id = courses.course_id\n",
        "WHERE grades.student_id is NULL\n",
        "'''\n",
        "cursor.execute(query)\n",
        "results = cursor.fetchall()\n",
        "for row in results:\n",
        "  print(row)\n"
      ],
      "metadata": {
        "colab": {
          "base_uri": "https://localhost:8080/"
        },
        "id": "tlAy2FtFngBR",
        "outputId": "81b791a7-cdfd-4289-b5a8-f5c76045f5d2"
      },
      "execution_count": null,
      "outputs": [
        {
          "output_type": "stream",
          "name": "stdout",
          "text": [
            "('Math',)\n",
            "('Physics',)\n"
          ]
        }
      ]
    },
    {
      "cell_type": "code",
      "source": [
        "# FULL JOIN (Simulated using LEFT JOIN with union of LEFT and RIGHT JOIN)\n",
        "full_join_query = '''\n",
        "SELECT students.name, courses.course_name, grades.grade\n",
        "FROM students\n",
        "LEFT JOIN grades ON students.student_id = grades.student_id\n",
        "LEFT JOIN courses ON grades.course_id = courses.course_id\n",
        "\n",
        "UNION\n",
        "\n",
        "SELECT students.name, courses.course_name, grades.grade\n",
        "FROM courses\n",
        "LEFT JOIN grades ON courses.course_id = grades.course_id\n",
        "LEFT JOIN students ON grades.student_id = students.student_id\n",
        "WHERE students.student_id IS NULL\n",
        "'''\n",
        "\n",
        "cursor.execute(full_join_query)\n",
        "\n",
        "results = cursor.fetchall()\n",
        "for row in results:\n",
        "  print(row)"
      ],
      "metadata": {
        "colab": {
          "base_uri": "https://localhost:8080/",
          "height": 220
        },
        "id": "eCEf4TsdzbRP",
        "outputId": "a2770926-9719-4eec-d2c4-680866d8bdf0"
      },
      "execution_count": null,
      "outputs": [
        {
          "output_type": "error",
          "ename": "ProgrammingError",
          "evalue": "Cannot operate on a closed database.",
          "traceback": [
            "\u001b[0;31m---------------------------------------------------------------------------\u001b[0m",
            "\u001b[0;31mProgrammingError\u001b[0m                          Traceback (most recent call last)",
            "\u001b[0;32m<ipython-input-19-93704636d86a>\u001b[0m in \u001b[0;36m<cell line: 17>\u001b[0;34m()\u001b[0m\n\u001b[1;32m     15\u001b[0m '''\n\u001b[1;32m     16\u001b[0m \u001b[0;34m\u001b[0m\u001b[0m\n\u001b[0;32m---> 17\u001b[0;31m \u001b[0mcursor\u001b[0m\u001b[0;34m.\u001b[0m\u001b[0mexecute\u001b[0m\u001b[0;34m(\u001b[0m\u001b[0mfull_join_query\u001b[0m\u001b[0;34m)\u001b[0m\u001b[0;34m\u001b[0m\u001b[0;34m\u001b[0m\u001b[0m\n\u001b[0m\u001b[1;32m     18\u001b[0m \u001b[0;34m\u001b[0m\u001b[0m\n\u001b[1;32m     19\u001b[0m \u001b[0mresults\u001b[0m \u001b[0;34m=\u001b[0m \u001b[0mcursor\u001b[0m\u001b[0;34m.\u001b[0m\u001b[0mfetchall\u001b[0m\u001b[0;34m(\u001b[0m\u001b[0;34m)\u001b[0m\u001b[0;34m\u001b[0m\u001b[0;34m\u001b[0m\u001b[0m\n",
            "\u001b[0;31mProgrammingError\u001b[0m: Cannot operate on a closed database."
          ]
        }
      ]
    },
    {
      "cell_type": "code",
      "source": [
        "# FULL JOIN (Simulated using LEFT JOIN with union of LEFT and RIGHT JOIN)\n",
        "full_join_query = '''\n",
        "SELECT students.name, courses.course_name, grades.grade\n",
        "FROM students\n",
        "LEFT JOIN grades ON students.student_id = grades.student_id\n",
        "LEFT JOIN courses ON grades.course_id = courses.course_id\n",
        "\n",
        "UNION\n",
        "\n",
        "SELECT students.name, courses.course_name, grades.grade\n",
        "FROM courses\n",
        "LEFT JOIN grades ON courses.course_id = grades.course_id\n",
        "LEFT JOIN students ON grades.student_id = students.student_id\n",
        "WHERE students.student_id IS NULL\n",
        "'''\n",
        "\n",
        "# Function to execute the query and output the result\n",
        "def execute_query(query):\n",
        "    cursor = conn.execute(query)\n",
        "    columns = [description[0] for description in cursor.description]\n",
        "    df = pd.DataFrame(cursor.fetchall(), columns=columns)\n",
        "    return df\n",
        "\n",
        "# Output query results\n",
        "print(\"INNER JOIN:\")\n",
        "print(execute_query(inner_join_query))\n",
        "print(\"\\nLEFT JOIN:\")\n",
        "print(execute_query(left_join_query))\n",
        "print(\"\\nRIGHT JOIN:\")\n",
        "print(execute_query(right_join_query))\n",
        "print(\"\\nFULL JOIN:\")\n",
        "print(execute_query(full_join_query))\n",
        "\n",
        "# Commit changes and close connection\n",
        "conn.commit()\n",
        "conn.close()"
      ],
      "metadata": {
        "colab": {
          "base_uri": "https://localhost:8080/"
        },
        "id": "LwnfrRxHh0Qx",
        "outputId": "53bab4b3-8743-4ddb-abb0-8c466bbfaa08"
      },
      "execution_count": null,
      "outputs": [
        {
          "output_type": "stream",
          "name": "stdout",
          "text": [
            "INNER JOIN:\n",
            "      name       course_name grade\n",
            "0  Charlie         Chemistry     C\n",
            "1    David           Biology     A\n",
            "2      Eve           History     B\n",
            "3    Frank        Literature     C\n",
            "4    Grace  Computer Science     A\n",
            "5    Harry               Art     B\n",
            "\n",
            "LEFT JOIN:\n",
            "      name       course_name grade\n",
            "0    Alice              None  None\n",
            "1      Bob              None  None\n",
            "2  Charlie         Chemistry     C\n",
            "3    David           Biology     A\n",
            "4      Eve           History     B\n",
            "5    Frank        Literature     C\n",
            "6    Grace  Computer Science     A\n",
            "7    Harry               Art     B\n",
            "8      Ivy              None     C\n",
            "9     Jack              None     A\n",
            "\n",
            "RIGHT JOIN:\n",
            "      name       course_name grade\n",
            "0     None              Math  None\n",
            "1     None           Physics  None\n",
            "2  Charlie         Chemistry     C\n",
            "3    David           Biology     A\n",
            "4      Eve           History     B\n",
            "5    Frank        Literature     C\n",
            "6    Grace  Computer Science     A\n",
            "7    Harry               Art     B\n",
            "\n",
            "FULL JOIN:\n",
            "       name       course_name grade\n",
            "0      None              Math  None\n",
            "1      None           Physics  None\n",
            "2     Alice              None  None\n",
            "3       Bob              None  None\n",
            "4   Charlie         Chemistry     C\n",
            "5     David           Biology     A\n",
            "6       Eve           History     B\n",
            "7     Frank        Literature     C\n",
            "8     Grace  Computer Science     A\n",
            "9     Harry               Art     B\n",
            "10      Ivy              None     C\n",
            "11     Jack              None     A\n"
          ]
        }
      ]
    }
  ]
}